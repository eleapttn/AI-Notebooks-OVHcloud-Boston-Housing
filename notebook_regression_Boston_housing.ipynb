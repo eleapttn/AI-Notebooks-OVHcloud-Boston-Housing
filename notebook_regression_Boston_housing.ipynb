{
 "cells": [
  {
   "cell_type": "markdown",
   "id": "5ebc8fa3",
   "metadata": {},
   "source": [
    "# **Prediction of house prices with regressions**"
   ]
  },
  {
   "cell_type": "markdown",
   "id": "3ee750d6",
   "metadata": {},
   "source": [
    "## Introduction"
   ]
  },
  {
   "cell_type": "markdown",
   "id": "339bf1fe",
   "metadata": {},
   "source": [
    "The aim of this Notebook is to use **AI NOTEBOOKS** product to train a simple model, on the *Boston housing dataset*, with the PyTorch library. It is an exemple of neural network for regression between data."
   ]
  },
  {
   "cell_type": "markdown",
   "id": "1ab9fe01",
   "metadata": {},
   "source": [
    "## Code"
   ]
  },
  {
   "cell_type": "markdown",
   "id": "4e5618fc",
   "metadata": {},
   "source": [
    "The neural network will be set up in different step. First, librairies have to be imported. Next, the dataset will be loaded, the confusion matrix printed and boss explained.\n",
    "After having split the dataset, the neural network model will be defined and trained. Finally, the R squared score will be printed and the loss displayed."
   ]
  },
  {
   "cell_type": "markdown",
   "id": "7db32c48",
   "metadata": {},
   "source": [
    "### Step 1 - librairies importation (and intallation if required)"
   ]
  },
  {
   "cell_type": "code",
   "execution_count": null,
   "id": "43a0b234",
   "metadata": {},
   "outputs": [],
   "source": [
    "!pip install pandas sklearn matplotlib seaborn numpy"
   ]
  },
  {
   "cell_type": "markdown",
   "id": "ce760a5e",
   "metadata": {},
   "source": [
    "⚠️ Remember to restart the kernel after installation."
   ]
  },
  {
   "cell_type": "code",
   "execution_count": 1,
   "id": "959fbd86",
   "metadata": {},
   "outputs": [],
   "source": [
    "import matplotlib.pyplot as plt\n",
    "\n",
    "import torch\n",
    "import torch.nn as nn\n",
    "import torch.nn.functional as F\n",
    "\n",
    "from sklearn.model_selection import train_test_split\n",
    "from sklearn.linear_model import LinearRegression\n",
    "from sklearn.datasets import load_boston\n",
    "\n",
    "import pandas as pd\n",
    "\n",
    "import seaborn as sns\n",
    "import numpy as np"
   ]
  },
  {
   "cell_type": "markdown",
   "id": "972e1460",
   "metadata": {},
   "source": [
    "### Step 2 - Load and explain the dataset"
   ]
  },
  {
   "cell_type": "code",
   "execution_count": null,
   "id": "644ea9ce",
   "metadata": {},
   "outputs": [],
   "source": [
    "# data opening\n",
    "dataset_boston = load_boston()"
   ]
  },
  {
   "cell_type": "code",
   "execution_count": 3,
   "id": "b904edfa",
   "metadata": {},
   "outputs": [
    {
     "name": "stdout",
     "output_type": "stream",
     "text": [
      "      CRIM    ZN  INDUS  CHAS    NOX     RM   AGE     DIS  RAD    TAX  \\\n",
      "0  0.00632  18.0   2.31   0.0  0.538  6.575  65.2  4.0900  1.0  296.0   \n",
      "1  0.02731   0.0   7.07   0.0  0.469  6.421  78.9  4.9671  2.0  242.0   \n",
      "2  0.02729   0.0   7.07   0.0  0.469  7.185  61.1  4.9671  2.0  242.0   \n",
      "3  0.03237   0.0   2.18   0.0  0.458  6.998  45.8  6.0622  3.0  222.0   \n",
      "4  0.06905   0.0   2.18   0.0  0.458  7.147  54.2  6.0622  3.0  222.0   \n",
      "\n",
      "   PTRATIO       B  LSTAT  \n",
      "0     15.3  396.90   4.98  \n",
      "1     17.8  396.90   9.14  \n",
      "2     17.8  392.83   4.03  \n",
      "3     18.7  394.63   2.94  \n",
      "4     18.7  396.90   5.33  \n"
     ]
    }
   ],
   "source": [
    "dataset = pd.DataFrame(dataset_boston.data, columns = dataset_boston.feature_names)\n",
    "\n",
    "# overview of the dataset\n",
    "print(dataset.head())"
   ]
  },
  {
   "cell_type": "markdown",
   "id": "032011b6",
   "metadata": {},
   "source": [
    "The Boston dataset has 506 rows and 15 columns.\n",
    "\n",
    "This data frame contains the following columns:\n",
    "\n",
    "\n",
    "- unnamed column: corresponding to index. It is deleted.\n",
    "\n",
    "**INPUTS**\n",
    "\n",
    "- crim: per capita crime rate by town.\n",
    "\n",
    "- zn: proportion of residential land zoned for lots over 25,000 sq.ft.\n",
    "\n",
    "- indus: proportion of non-retail business acres per town.\n",
    "\n",
    "- chas: Charles River dummy variable (= 1 if tract bounds river ; 0 otherwise).\n",
    "\n",
    "- nox: nitrogen oxides concentration (parts per 10 million).\n",
    "\n",
    "- rm: average number of rooms per dwelling.\n",
    "\n",
    "- age: proportion of owner-occupied units built prior to 1940.\n",
    "\n",
    "- dis: weighted mean of distances to five Boston employment centres.\n",
    "\n",
    "- rad: index of accessibility to radial highways.\n",
    "\n",
    "- tax: full-value property-tax rate per \\$10.000.\n",
    "\n",
    "- ptratio: pupil-teacher ratio by town.\n",
    "\n",
    "- b: 1000(Bk - 0.63)^2 where Bk is the proportion of blacks by town.\n",
    "\n",
    "- lstat: lower status of the population (percent).\n",
    "\n",
    "**OUTPUT**\n",
    "\n",
    "- medv: median value of owner-occupied homes in \\$1000s.\n",
    "\n",
    "### Step 3 - Display the confusion matrix"
   ]
  },
  {
   "cell_type": "markdown",
   "id": "8a3368e5",
   "metadata": {},
   "source": [
    "If you have a data set with many columns, a good way to check correlations among columns is by visualizing the correlation matrix.\n",
    "\n",
    "The orange colour means positive and purple one means negative. The stronger the color, the larger the correlation magnitude. \n",
    "\n",
    "- First, check what is the strongest correletion with medv (the output), except the main diagonal\n",
    "\n",
    "- Next, verify what are the four other variables most correlated with medv"
   ]
  },
  {
   "cell_type": "code",
   "execution_count": 4,
   "id": "701c0e78",
   "metadata": {},
   "outputs": [
    {
     "data": {
      "text/plain": [
       "[]"
      ]
     },
     "execution_count": 4,
     "metadata": {},
     "output_type": "execute_result"
    },
    {
     "data": {
      "image/png": "[encoded data removed]",
      "text/plain": [
       "<Figure size 432x288 with 2 Axes>"
      ]
     },
     "metadata": {
      "needs_background": "light"
     },
     "output_type": "display_data"
    }
   ],
   "source": [
    "# confusion matrix\n",
    "correlation = dataset.corr()\n",
    "fig = sns.heatmap(correlation)\n",
    "fig.set_title('Confusion matrix')\n",
    "fig.plot()"
   ]
  },
  {
   "cell_type": "markdown",
   "id": "88e437ce",
   "metadata": {},
   "source": [
    "Parameters which are the most corralated with **medv** :\n",
    "- rm: 0.8\n",
    "- lstat : - 0.8\n",
    "- tax: 0.5\n",
    "- indus: - 0.5\n",
    "- ptratio: - 0.5"
   ]
  },
  {
   "cell_type": "markdown",
   "id": "cdf0362d",
   "metadata": {},
   "source": [
    "### Step 4 - Split the dataset"
   ]
  },
  {
   "cell_type": "code",
   "execution_count": 5,
   "id": "0328bc83",
   "metadata": {},
   "outputs": [],
   "source": [
    "# input of the neural network\n",
    "X = dataset_boston.data\n",
    "\n",
    "# output of the neural network\n",
    "y = dataset_boston.target\n",
    "Y = y.astype(\"float64\")\n",
    "\n",
    "# train and test split : 20 % for the test and 80 % for the learning\n",
    "X_train,X_test,y_train,y_test=train_test_split(X,y,test_size=0.2,random_state=0)\n",
    "\n",
    "# convert split data from numpy array to Pytorch tensors\n",
    "X_train = torch.FloatTensor(X_train)\n",
    "X_test = torch.FloatTensor(X_test)\n",
    "y_train = torch.FloatTensor(y_train)\n",
    "y_test = torch.FloatTensor(y_test)"
   ]
  },
  {
   "cell_type": "markdown",
   "id": "912dadf9",
   "metadata": {},
   "source": [
    "### Step 5 - Train model"
   ]
  },
  {
   "cell_type": "code",
   "execution_count": 6,
   "id": "56e9b0c9",
   "metadata": {},
   "outputs": [
    {
     "name": "stdout",
     "output_type": "stream",
     "text": [
      "Model(\n",
      "  (layer1): Linear(in_features=13, out_features=50, bias=True)\n",
      "  (layer2): Linear(in_features=50, out_features=50, bias=True)\n",
      "  (output): Linear(in_features=50, out_features=1, bias=True)\n",
      ")\n"
     ]
    },
    {
     "name": "stderr",
     "output_type": "stream",
     "text": [
      "/opt/conda/lib/python3.8/site-packages/torch/nn/modules/loss.py:528: UserWarning: Using a target size (torch.Size([404])) that is different to the input size (torch.Size([404, 1])). This will likely lead to incorrect results due to broadcasting. Please ensure they have the same size.\n",
      "  return F.mse_loss(input, target, reduction=self.reduction)\n"
     ]
    },
    {
     "name": "stdout",
     "output_type": "stream",
     "text": [
      "Epoch: 10 Loss: 318.6713562011719\n",
      "Epoch: 20 Loss: 194.0258026123047\n",
      "Epoch: 30 Loss: 127.85427856445312\n",
      "Epoch: 40 Loss: 104.75790405273438\n",
      "Epoch: 50 Loss: 97.19984436035156\n",
      "Epoch: 60 Loss: 91.97996520996094\n",
      "Epoch: 70 Loss: 90.9835433959961\n",
      "Epoch: 80 Loss: 90.24881744384766\n",
      "Epoch: 90 Loss: 89.7558364868164\n",
      "Epoch: 100 Loss: 89.33284759521484\n",
      "Epoch: 110 Loss: 88.98990631103516\n",
      "Epoch: 120 Loss: 88.6785659790039\n",
      "Epoch: 130 Loss: 88.34981536865234\n",
      "Epoch: 140 Loss: 87.9941177368164\n",
      "Epoch: 150 Loss: 87.60692596435547\n",
      "Epoch: 160 Loss: 87.42369079589844\n",
      "Epoch: 170 Loss: 87.30652618408203\n",
      "Epoch: 180 Loss: 87.22322845458984\n",
      "Epoch: 190 Loss: 87.16268920898438\n",
      "Epoch: 200 Loss: 87.1114273071289\n",
      "Epoch: 210 Loss: 87.06806945800781\n",
      "Epoch: 220 Loss: 87.02974700927734\n",
      "Epoch: 230 Loss: 86.99620056152344\n",
      "Epoch: 240 Loss: 86.96626281738281\n",
      "Epoch: 250 Loss: 86.9393539428711\n",
      "Epoch: 260 Loss: 86.91511535644531\n",
      "Epoch: 270 Loss: 86.89303588867188\n",
      "Epoch: 280 Loss: 86.87281036376953\n",
      "Epoch: 290 Loss: 86.85406494140625\n",
      "Epoch: 300 Loss: 86.83661651611328\n",
      "Epoch: 310 Loss: 86.8202896118164\n",
      "Epoch: 320 Loss: 86.80480194091797\n",
      "Epoch: 330 Loss: 86.79008483886719\n",
      "Epoch: 340 Loss: 86.77603149414062\n",
      "Epoch: 350 Loss: 86.76254272460938\n",
      "Epoch: 360 Loss: 86.74951934814453\n",
      "Epoch: 370 Loss: 86.73685455322266\n",
      "Epoch: 380 Loss: 86.7230453491211\n",
      "Epoch: 390 Loss: 86.70555877685547\n",
      "Epoch: 400 Loss: 86.6849594116211\n",
      "Epoch: 410 Loss: 86.66642761230469\n",
      "Epoch: 420 Loss: 86.65071105957031\n",
      "Epoch: 430 Loss: 86.63573455810547\n",
      "Epoch: 440 Loss: 86.62113952636719\n",
      "Epoch: 450 Loss: 86.60697174072266\n",
      "Epoch: 460 Loss: 86.59305572509766\n",
      "Epoch: 470 Loss: 86.57935333251953\n",
      "Epoch: 480 Loss: 86.56587219238281\n",
      "Epoch: 490 Loss: 86.55264282226562\n",
      "Epoch: 500 Loss: 86.53956604003906\n",
      "Epoch: 510 Loss: 86.52664184570312\n",
      "Epoch: 520 Loss: 86.51387023925781\n",
      "Epoch: 530 Loss: 86.50128936767578\n",
      "Epoch: 540 Loss: 86.48867797851562\n",
      "Epoch: 550 Loss: 86.47605895996094\n",
      "Epoch: 560 Loss: 86.46357727050781\n",
      "Epoch: 570 Loss: 86.45126342773438\n",
      "Epoch: 580 Loss: 86.43907928466797\n",
      "Epoch: 590 Loss: 86.4269027709961\n",
      "Last value of loss:  86.416015625\n"
     ]
    }
   ],
   "source": [
    "# defining the neural network model\n",
    "class Model(nn.Module):\n",
    "    def __init__(self):\n",
    "        super().__init__()\n",
    "        # fully connected layer : 13 input features for 13 parameters in X\n",
    "        self.layer1 = nn.Linear(in_features=13, out_features=50)\n",
    "        # fully connected layer\n",
    "        self.layer2 = nn.Linear(in_features=50, out_features=50)\n",
    "        # output layer : 1 output features for 1 species\n",
    "        self.output = nn.Linear(in_features=50, out_features=1)\n",
    "     \n",
    "    def forward(self, x):\n",
    "        # activation fonction : reLU\n",
    "        x = F.relu(self.layer1(x))\n",
    "        x = F.relu(self.layer2(x))\n",
    "        x = self.output(x)\n",
    "        return x\n",
    "    \n",
    "# display the model architecture\n",
    "model = Model()\n",
    "print(model)\n",
    "\n",
    "# measure loss (for regression mean squared loss)\n",
    "criterion = nn.MSELoss()\n",
    "# optimizer Adam with a learning rate of 0.05\n",
    "optimizer = torch.optim.Adam(model.parameters(), lr=0.05)\n",
    "\n",
    "epoch_list = []\n",
    "loss_list = []\n",
    "# the model will be train during 600 epochs\n",
    "epochs = 600\n",
    "for i in range(epochs):\n",
    "    optimizer.zero_grad()\n",
    "    y_pred = model.forward(X_train)\n",
    "    loss = criterion(y_pred, y_train)\n",
    "    loss.backward()\n",
    "    loss_list.append(loss.item())\n",
    "    epoch_list.append(i)\n",
    "    optimizer.step()\n",
    "    if i > 0 and i % 10 == 0:\n",
    "        print(f'Epoch: {i} Loss: {loss}')\n",
    "\n",
    "# print the last loss\n",
    "print('Last value of loss: ',loss_list[599])"
   ]
  },
  {
   "cell_type": "markdown",
   "id": "90d38b1f",
   "metadata": {},
   "source": [
    "### Step 6 - Print the R squared score (R²)"
   ]
  },
  {
   "cell_type": "markdown",
   "id": "ee744d98",
   "metadata": {},
   "source": [
    "The Pearson linear coefficient of determination, noted R², is a measure of the quality of the prediction of a linear regression. The closer it is to 1, the better."
   ]
  },
  {
   "cell_type": "code",
   "execution_count": 7,
   "id": "766ea357",
   "metadata": {},
   "outputs": [
    {
     "name": "stdout",
     "output_type": "stream",
     "text": [
      "R2 score for the train:  0.7730135520512351\n",
      "R2 score for the test:  0.5892230674471962\n"
     ]
    }
   ],
   "source": [
    "# calculate the R2 score (Pearson's linear coefficient of determination)\n",
    "lm = LinearRegression()\n",
    "lm.fit(X_train,y_train)\n",
    "print('R2 score for the train: ',lm.score(X_train,y_train))\n",
    "print('R2 score for the test: ',lm.score(X_test,y_test))"
   ]
  },
  {
   "cell_type": "markdown",
   "id": "621922f4",
   "metadata": {},
   "source": [
    "### Step 7 - Loss display"
   ]
  },
  {
   "cell_type": "code",
   "execution_count": 8,
   "id": "c4a9070d",
   "metadata": {},
   "outputs": [
    {
     "data": {
      "image/png": "[encoded data removed]",
      "text/plain": [
       "<Figure size 432x288 with 1 Axes>"
      ]
     },
     "metadata": {
      "needs_background": "light"
     },
     "output_type": "display_data"
    }
   ],
   "source": [
    "# display the graph of loss\n",
    "plt.plot(epoch_list,loss_list)\n",
    "plt.title(\"Evolution of the loss according to the number of epochs\")\n",
    "plt.xlabel(\"Epochs\")\n",
    "plt.ylabel(\"Loss\")\n",
    "plt.show()"
   ]
  },
  {
   "cell_type": "markdown",
   "id": "f3668b54",
   "metadata": {},
   "source": [
    "## Conclusion"
   ]
  },
  {
   "cell_type": "markdown",
   "id": "a9f20528",
   "metadata": {},
   "source": [
    "- The loss of this neural network is quite low (86.416).\n",
    "- The R² score is not bad but it could be better than 77 %. \n",
    "\n",
    "To conclude, this neural network could be better if we take more input parameters. We can also increse the number of epoch with care of overfitting."
   ]
  }
 ],
 "metadata": {
  "kernelspec": {
   "display_name": "Python 3 (ipykernel)",
   "language": "python",
   "name": "python3"
  },
  "language_info": {
   "codemirror_mode": {
    "name": "ipython",
    "version": 3
   },
   "file_extension": ".py",
   "mimetype": "text/x-python",
   "name": "python",
   "nbconvert_exporter": "python",
   "pygments_lexer": "ipython3",
   "version": "3.8.8"
  }
 },
 "nbformat": 4,
 "nbformat_minor": 5
}
