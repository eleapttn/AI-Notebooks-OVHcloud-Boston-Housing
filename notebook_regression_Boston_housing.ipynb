{
 "cells": [
  {
   "cell_type": "markdown",
   "id": "9e4e6c84",
   "metadata": {},
   "source": [
    "# **Prediction of house prices with regressions**"
   ]
  },
  {
   "cell_type": "markdown",
   "id": "a277e00b",
   "metadata": {},
   "source": [
    "## Introduction"
   ]
  },
  {
   "cell_type": "markdown",
   "id": "3b0d74a1",
   "metadata": {},
   "source": [
    "The aim of this Notebook is to use AI TRAINING product to train a simple model, on the Boston housing dataset, with the PyTorch library. It is an exemple of neural network for regression between data."
   ]
  },
  {
   "cell_type": "markdown",
   "id": "83208e89",
   "metadata": {},
   "source": [
    "## Code"
   ]
  },
  {
   "cell_type": "markdown",
   "id": "3fe7fb76",
   "metadata": {},
   "source": [
    "The neural network will be set up in different step. First, librairies have to be imported. Next, the dataset will be loaded, the confusion matrix printed and boss explained.\n",
    "After having split the dataset, the neural network model will be defined and trained. Finally, the R squared score will be printed and the loss displayed."
   ]
  },
  {
   "cell_type": "markdown",
   "id": "ed00668b",
   "metadata": {},
   "source": [
    "### Step 1 - librairies importation (and intallation if required)"
   ]
  },
  {
   "cell_type": "code",
   "execution_count": null,
   "id": "404f50ef",
   "metadata": {},
   "outputs": [],
   "source": [
    "pip install pandas sklearn matplotlib seaborn numpy"
   ]
  },
  {
   "cell_type": "code",
   "execution_count": 2,
   "id": "c2beeb7c",
   "metadata": {},
   "outputs": [],
   "source": [
    "%matplotlib inline\n",
    "\n",
    "import matplotlib.pyplot as plt\n",
    "\n",
    "import torch\n",
    "import torch.nn as nn\n",
    "import torch.nn.functional as F\n",
    "\n",
    "from sklearn.model_selection import train_test_split\n",
    "from sklearn.linear_model import LinearRegression\n",
    "from sklearn.datasets import load_boston",
    "\n",
    "import pandas as pd\n",
    "\n",
    "import seaborn as sns\n",
    "import numpy as np"
   ]
  },
  {
   "cell_type": "markdown",
   "id": "45479abe",
   "metadata": {},
   "source": [
    "### Step 2 - Load and explain the dataset"
   ]
  },
  {
   "cell_type": "code",
   "execution_count": 3,
   "id": "35e72c9c",
   "metadata": {},
   "outputs": [],
   "source": [
    "# data opening\n",
    "dataset = load_boston()",
   ]
  },
  {
   "cell_type": "markdown",
   "id": "9ce5fc16",
   "metadata": {},
   "source": [
    "The Boston dataset has 506 rows and 15 columns.\n",
    "\n",
    "This data frame contains the following columns:\n",
    "\n",
    "\n",
    "- unnamed column: corresponding to index. It is deleted.\n",
    "\n",
    "**INPUTS**\n",
    "\n",
    "- crim: per capita crime rate by town.\n",
    "\n",
    "- zn: proportion of residential land zoned for lots over 25,000 sq.ft.\n",
    "\n",
    "- indus: proportion of non-retail business acres per town.\n",
    "\n",
    "- chas: Charles River dummy variable (= 1 if tract bounds river ; 0 otherwise).\n",
    "\n",
    "- nox: nitrogen oxides concentration (parts per 10 million).\n",
    "\n",
    "- rm: average number of rooms per dwelling.\n",
    "\n",
    "- age: proportion of owner-occupied units built prior to 1940.\n",
    "\n",
    "- dis: weighted mean of distances to five Boston employment centres.\n",
    "\n",
    "- rad: index of accessibility to radial highways.\n",
    "\n",
    "- tax: full-value property-tax rate per \\$10.000.\n",
    "\n",
    "- ptratio: pupil-teacher ratio by town.\n",
    "\n",
    "- black: 1000(Bk - 0.63)^2 where Bk is the proportion of blacks by town.\n",
    "\n",
    "- lstat: lower status of the population (percent).\n",
    "\n",
    "**OUTPUT**\n",
    "\n",
    "- medv: median value of owner-occupied homes in \\$1000s.\n",
    "\n",
    "### Step 3 - Display the confusion matrix"
   ]
  },
  {
   "cell_type": "markdown",
   "id": "30ddcbfb",
   "metadata": {},
   "source": [
    "If you have a data set with many columns, a good way to check correlations among columns is by visualizing the correlation matrix.\n",
    "\n",
    "The orange colour means positive and purple one means negative. The stronger the color, the larger the correlation magnitude. \n",
    "\n",
    "- First, check what is the strongest correletion with medv (the output), except the main diagonal\n",
    "\n",
    "- Next, verify what are the four other variables most correlated with medv"
   ]
  },
  {
   "cell_type": "code",
   "execution_count": 4,
   "id": "d4cb280b",
   "metadata": {},
   "outputs": [
    {
     "data": {
      "text/plain": [
       "[]"
      ]
     },
     "execution_count": 4,
     "metadata": {},
     "output_type": "execute_result"
    },
    {
     "data": {
      "image/png": "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\n",
      "text/plain": [
       "<Figure size 432x288 with 2 Axes>"
      ]
     },
     "metadata": {
      "needs_background": "light"
     },
     "output_type": "display_data"
    }
   ],
   "source": [
    "# confusion matrix\n",
    "correlation = dataset.corr()\n",
    "fig = sns.heatmap(correlation)\n",
    "fig.set_title('Confusion matrix')\n",
    "fig.plot()"
   ]
  },
  {
   "cell_type": "markdown",
   "id": "a5245eae",
   "metadata": {},
   "source": [
    "Parameters which are the most corralated with **medv** :\n",
    "- rm: 0.8\n",
    "- lstat : - 0.8\n",
    "- tax: 0.5\n",
    "- indus: - 0.5\n",
    "- ptratio: - 0.5"
   ]
  },
  {
   "cell_type": "markdown",
   "id": "3864a40f",
   "metadata": {},
   "source": [
    "### Step 4 - Split the dataset"
   ]
  },
  {
   "cell_type": "code",
   "execution_count": 5,
   "id": "1d6d515b",
   "metadata": {},
   "outputs": [],
   "source": [
    "# input of the neural network\n",
    "X = dataset.data\n",
    "\n",
    "# output of the neural network (only the price of houses)\n",
    "y = dataset.target\n",
    "\n",
    "# train and test split : 20 % for the test and 80 % for the learning\n",
    "X_train,X_test,y_train,y_test=train_test_split(X,y,test_size=0.2,random_state=0)\n",
    "\n",
    "# convert split data from numpy array to Pytorch tensors\n",
    "X_train = torch.FloatTensor(X_train)\n",
    "X_test = torch.FloatTensor(X_test)\n",
    "y_train = torch.FloatTensor(y_train)\n",
    "y_test = torch.FloatTensor(y_test)"
   ]
  },
  {
   "cell_type": "markdown",
   "id": "b200e408",
   "metadata": {},
   "source": [
    "### Step 5 - Train model"
   ]
  },
  {
   "cell_type": "code",
   "execution_count": 20,
   "id": "1a5a90ff",
   "metadata": {},
   "outputs": [
    {
     "name": "stdout",
     "output_type": "stream",
     "text": [
      "Model(\n",
      "  (layer1): Linear(in_features=13, out_features=50, bias=True)\n",
      "  (layer2): Linear(in_features=50, out_features=50, bias=True)\n",
      "  (output): Linear(in_features=50, out_features=1, bias=True)\n",
      ")\n",
      "Epoch: 10 Loss: 153.4332733154297\n",
      "Epoch: 20 Loss: 173.8829345703125\n",
      "Epoch: 30 Loss: 115.03936767578125\n",
      "Epoch: 40 Loss: 99.13554382324219\n",
      "Epoch: 50 Loss: 94.4698486328125\n",
      "Epoch: 60 Loss: 92.4862060546875\n",
      "Epoch: 70 Loss: 91.38339233398438\n",
      "Epoch: 80 Loss: 90.6115493774414\n",
      "Epoch: 90 Loss: 89.91624450683594\n",
      "Epoch: 100 Loss: 89.27413940429688\n",
      "Epoch: 110 Loss: 88.66644287109375\n",
      "Epoch: 120 Loss: 88.09204864501953\n",
      "Epoch: 130 Loss: 87.55540466308594\n",
      "Epoch: 140 Loss: 87.16007232666016\n",
      "Epoch: 150 Loss: 87.4166488647461\n",
      "Epoch: 160 Loss: 86.48225402832031\n",
      "Epoch: 170 Loss: 86.09770202636719\n",
      "Epoch: 180 Loss: 85.8694839477539\n",
      "Epoch: 190 Loss: 85.69709777832031\n",
      "Epoch: 200 Loss: 85.5351791381836\n",
      "Epoch: 210 Loss: 85.42012786865234\n",
      "Epoch: 220 Loss: 85.90708923339844\n",
      "Epoch: 230 Loss: 85.27674102783203\n",
      "Epoch: 240 Loss: 85.40576934814453\n",
      "Epoch: 250 Loss: 85.2734375\n",
      "Epoch: 260 Loss: 85.18926239013672\n",
      "Epoch: 270 Loss: 85.18314361572266\n",
      "Epoch: 280 Loss: 85.16700744628906\n",
      "Epoch: 290 Loss: 85.15718078613281\n",
      "Epoch: 300 Loss: 85.1508560180664\n",
      "Epoch: 310 Loss: 85.1479721069336\n",
      "Epoch: 320 Loss: 85.1463623046875\n",
      "Epoch: 330 Loss: 85.14644622802734\n",
      "Epoch: 340 Loss: 85.697265625\n",
      "Epoch: 350 Loss: 85.17684936523438\n",
      "Epoch: 360 Loss: 85.14918518066406\n",
      "Epoch: 370 Loss: 85.20484924316406\n",
      "Epoch: 380 Loss: 85.15370178222656\n",
      "Epoch: 390 Loss: 85.15029907226562\n",
      "Epoch: 400 Loss: 85.14704132080078\n",
      "Epoch: 410 Loss: 85.14420318603516\n",
      "Epoch: 420 Loss: 85.14414978027344\n",
      "Epoch: 430 Loss: 85.14398956298828\n",
      "Epoch: 440 Loss: 85.14384460449219\n",
      "Epoch: 450 Loss: 85.1437759399414\n",
      "Epoch: 460 Loss: 85.14374542236328\n",
      "Epoch: 470 Loss: 85.14373016357422\n",
      "Epoch: 480 Loss: 85.14372253417969\n",
      "Epoch: 490 Loss: 85.14373016357422\n",
      "Epoch: 500 Loss: 85.14372253417969\n",
      "Epoch: 510 Loss: 85.14372253417969\n",
      "Epoch: 520 Loss: 85.14372253417969\n",
      "Epoch: 530 Loss: 85.14372253417969\n",
      "Epoch: 540 Loss: 85.14372253417969\n",
      "Epoch: 550 Loss: 85.14373016357422\n",
      "Epoch: 560 Loss: 85.14371490478516\n",
      "Epoch: 570 Loss: 85.14372253417969\n",
      "Epoch: 580 Loss: 85.14371490478516\n",
      "Epoch: 590 Loss: 85.14373016357422\n",
      "Last value of loss:  85.14373016357422\n"
     ]
    }
   ],
   "source": [
    "# defining the neural network model\n",
    "class Model(nn.Module):\n",
    "    def __init__(self):\n",
    "        super().__init__()\n",
    "        # fully connected layer : 13 input features for 13 parameters in X\n",
    "        self.layer1 = nn.Linear(in_features=13, out_features=50)\n",
    "        # fully connected layer\n",
    "        self.layer2 = nn.Linear(in_features=50, out_features=50)\n",
    "        # output layer : 1 output features for 1 species\n",
    "        self.output = nn.Linear(in_features=50, out_features=1)\n",
    "     \n",
    "    def forward(self, x):\n",
    "        # activation fonction : reLU\n",
    "        x = F.relu(self.layer1(x))\n",
    "        x = F.relu(self.layer2(x))\n",
    "        x = self.output(x)\n",
    "        return x\n",
    "    \n",
    "# display the model architecture\n",
    "model = Model()\n",
    "print(model)\n",
    "\n",
    "# measure loss (for regression mean squared loss)\n",
    "criterion = nn.MSELoss()\n",
    "# optimizer Adam with a learning rate of 0.05\n",
    "optimizer = torch.optim.Adam(model.parameters(), lr=0.05)\n",
    "\n",
    "epoch_list = []\n",
    "loss_list = []\n",
    "# the model will be train during 600 epochs\n",
    "epochs = 600\n",
    "for i in range(epochs):\n",
    "    optimizer.zero_grad()\n",
    "    y_pred = model.forward(X_train)\n",
    "    loss = criterion(y_pred, y_train)\n",
    "    loss_list.append(loss)\n",
    "    loss.backward()\n",
    "    epoch_list.append(i)\n",
    "    optimizer.step()\n",
    "    if i > 0 and i % 10 == 0:\n",
    "        print(f'Epoch: {i} Loss: {loss}')\n",
    "\n",
    "# print the last loss\n",
    "last_loss = loss_list[599]\n",
    "print('Last value of loss: ',last_loss.item())\n"
   ]
  },
  {
   "cell_type": "markdown",
   "id": "0c58ccec",
   "metadata": {},
   "source": [
    "### Step 6 - Print the R squared score (R²)"
   ]
  },
  {
   "cell_type": "markdown",
   "id": "3c634444",
   "metadata": {},
   "source": [
    "The Pearson linear coefficient of determination, noted R², is a measure of the quality of the prediction of a linear regression. The closer it is to 1, the better."
   ]
  },
  {
   "cell_type": "code",
   "execution_count": 15,
   "id": "3ca29092",
   "metadata": {},
   "outputs": [
    {
     "name": "stdout",
     "output_type": "stream",
     "text": [
      "R2 score for the train:  0.7730135563179157\n",
      "R2 score for the test:  0.5892231411019891\n"
     ]
    }
   ],
   "source": [
    "# calculate the R2 score (Pearson's linear coefficient of determination)\n",
    "lm = LinearRegression()\n",
    "lm.fit(X_train,y_train)\n",
    "print('R2 score for the train: ',lm.score(X_train,y_train))\n",
    "print('R2 score for the test: ',lm.score(X_test,y_test))"
   ]
  },
  {
   "cell_type": "markdown",
   "id": "f399550e",
   "metadata": {},
   "source": [
    "### Step 7 - Loss display"
   ]
  },
  {
   "cell_type": "code",
   "execution_count": 16,
   "id": "7b4daa91",
   "metadata": {},
   "outputs": [
    {
     "data": {
      "image/png": "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\n",
      "text/plain": [
       "<Figure size 432x288 with 1 Axes>"
      ]
     },
     "metadata": {
      "needs_background": "light"
     },
     "output_type": "display_data"
    }
   ],
   "source": [
    "# display the graph of loss\n",
    "plt.plot(epoch_list,loss_list)\n",
    "plt.title(\"Evolution of the loss according to the number of epochs\")\n",
    "plt.xlabel(\"Epochs\")\n",
    "plt.ylabel(\"Loss\")\n",
    "plt.show()"
   ]
  },
  {
   "cell_type": "markdown",
   "id": "4009c676",
   "metadata": {},
   "source": [
    "## Conclusion"
   ]
  },
  {
   "cell_type": "markdown",
   "id": "aebf0953",
   "metadata": {},
   "source": [
    "- The loss of this neural network is quite low (arround 17 %).\n",
    "- The R² score is not bad but it could be better than 77 %. \n",
    "\n",
    "To conclude, this neural network could be better if we take more input parameters. We can also increse the number of epoch with care of overfitting."
   ]
  }
 ],
 "metadata": {
  "kernelspec": {
   "display_name": "Python 3",
   "language": "python",
   "name": "python3"
  },
  "language_info": {
   "codemirror_mode": {
    "name": "ipython",
    "version": 3
   },
   "file_extension": ".py",
   "mimetype": "text/x-python",
   "name": "python",
   "nbconvert_exporter": "python",
   "pygments_lexer": "ipython3",
   "version": "3.8.8"
  }
 },
 "nbformat": 4,
 "nbformat_minor": 5
}
